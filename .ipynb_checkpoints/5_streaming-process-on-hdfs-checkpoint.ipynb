{
 "cells": [
  {
   "cell_type": "markdown",
   "metadata": {},
   "source": [
    "### Create model script\n",
    "certificate-project-spark-submit-model.py\n",
    "\n",
    "### Create streaming script\n",
    "certificate-project-spark-submit-streaming.py\n",
    "\n",
    "### Create flume conf file\n",
    "certificate-project-flume.conf\n",
    "\n",
    "### Webconsole 1 - kafka\n",
    "\n",
    "```kafka-topics --create --zookeeper ip-20-0-21-196.ec2.internal:2181 --replication-factor 1 --partitions 1 --topic edureka_854312_certificate_project```\n",
    "\n",
    "```kafka-console-producer --topic edureka_854312_certificate_project --broker-list ip-20-0-31-210.ec2.internal:9092, ip-20-0-31-221.ec2.internal:9092, ip-20-0-31-221.ec2.internal:9092```\n",
    "\n",
    "### Webconsole 2 - flume\n",
    "\n",
    "```flume-ng agent --conf conf --conf-file certificate-project-flume.conf --name edureka_854312_bikeSharing -Dflume.root.logger=INFO,console```\n",
    "\n",
    "### Webconsole 3 - spark submit\n",
    "\n",
    "```spark2-submit --master yarn certificate-project-spark-submit-model.py```\n",
    "\n",
    "```spark2-submit --master yarn certificate-project-spark-submit-streaming.py```\n",
    "\n",
    "### Gererate messages in producer:\n",
    "- 1/20/2011 0:00,1,0,1,1,10.66,11.365,56,26.0027\n"
   ]
  }
 ],
 "metadata": {
  "kernelspec": {
   "display_name": "Python 3",
   "language": "python",
   "name": "python3"
  },
  "language_info": {
   "codemirror_mode": {
    "name": "ipython",
    "version": 3
   },
   "file_extension": ".py",
   "mimetype": "text/x-python",
   "name": "python",
   "nbconvert_exporter": "python",
   "pygments_lexer": "ipython3",
   "version": "3.5.2"
  }
 },
 "nbformat": 4,
 "nbformat_minor": 2
}
